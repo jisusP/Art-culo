{
  "nbformat": 4,
  "nbformat_minor": 0,
  "metadata": {
    "colab": {
      "provenance": [],
      "authorship_tag": "ABX9TyO7oy3mNjVm+s+e02Bap0jA",
      "include_colab_link": true
    },
    "kernelspec": {
      "name": "python3",
      "display_name": "Python 3"
    },
    "language_info": {
      "name": "python"
    }
  },
  "cells": [
    {
      "cell_type": "markdown",
      "metadata": {
        "id": "view-in-github",
        "colab_type": "text"
      },
      "source": [
        "<a href=\"https://colab.research.google.com/github/jisusP/Articulo/blob/main/molecula_xyz.ipynb\" target=\"_parent\"><img src=\"https://colab.research.google.com/assets/colab-badge.svg\" alt=\"Open In Colab\"/></a>"
      ]
    },
    {
      "cell_type": "code",
      "execution_count": null,
      "metadata": {
        "id": "KPHttM7Ty781"
      },
      "outputs": [],
      "source": [
        "!pip install rdkit\n",
        "!pip install py3Dmol"
      ]
    },
    {
      "cell_type": "code",
      "source": [
        "from rdkit import Chem\n",
        "from rdkit.Chem import AllChem\n",
        "import py3Dmol\n",
        "from rdkit.Chem import Draw\n",
        "import numpy as np\n",
        "import pandas as pd\n",
        "\n",
        "# Leer el archivo XYZ\n",
        "with open('quinolina1.xyz', 'r') as f:\n",
        "    xyz_data = f.read()\n",
        "#Parte el archivo por líneas\n",
        "lineas = xyz_data.splitlines()\n",
        "#Obtiene una lista por cada línea; cada elemento es dado por la separación de espacios en el archivo\n",
        "valores = [cadena.split() for cadena in lineas]\n",
        "#Eliminamos todos los espacios que haya\n",
        "valores_limpios = [elemento for elemento in valores if elemento]\n",
        "\n",
        "#print(valores_limpios)\n",
        "\n",
        "#esto sólo es para probar si la molécula se está leyendo\n",
        "molecule = AllChem.MolFromXYZBlock(xyz_data)\n",
        "\n",
        "# Asegurarse de que la molécula se ha creado correctamente\n",
        "if molecule is None:\n",
        "    print('Error al crear la molécula')\n",
        "else:\n",
        "    print('Molécula creada correctamente')\n",
        "\n",
        "#Draw.MolToImageFile(molecule, \"prueba.png\")\n",
        "print(valores_limpios)\n",
        "#Creamos un diccionario para guardar por orden las listas que se obtienen de valores_limpios\n",
        "indices = {}\n",
        "for i,j in enumerate(valores_limpios[1:]):\n",
        "  indices[i] = j\n",
        "print(indices)\n",
        "print(\"\")\n",
        "\n",
        "#Abrir el documento con las cargas\n",
        "with open('Mulliken_1(1).txt', 'r') as f:\n",
        "    texto = f.read()\n",
        "#los parte por líneas\n",
        "lineas = texto.split('\\n')\n",
        "#Elimina el título y la carga neta\n",
        "del lineas[0]\n",
        "del lineas[-1]\n",
        "print(lineas)\n",
        "#esto lo parte por espacios\n",
        "columnas = [linea.split() for linea in lineas]\n",
        "print(columnas)\n",
        "#Hacemos lo mismo pero para las cargas...\n",
        "cargas_Mulli ={}\n",
        "for id, carga in enumerate(columnas):\n",
        "  cargas_Mulli[id]=carga[5]\n",
        "print(cargas_Mulli)"
      ],
      "metadata": {
        "id": "jzAjk5bXzHoz",
        "colab": {
          "base_uri": "https://localhost:8080/"
        },
        "outputId": "165fbfc5-6927-4f97-8078-89e2361823f7"
      },
      "execution_count": 23,
      "outputs": [
        {
          "output_type": "stream",
          "name": "stdout",
          "text": [
            "Molécula creada correctamente\n",
            "[['32'], ['C', '-3.655704', '-0.073700', '-0.293774'], ['C', '-3.094159', '-1.381731', '-0.293170'], ['C', '-1.742381', '-1.580333', '-0.230713'], ['C', '-0.857499', '-0.472013', '-0.160784'], ['C', '-1.405560', '0.836566', '-0.159693'], ['C', '-2.811116', '1.006506', '-0.226961'], ['N', '0.480286', '-0.704623', '-0.099633'], ['C', '1.297227', '0.323206', '-0.036357'], ['C', '0.846132', '1.672003', '-0.029942'], ['C', '-0.495173', '1.920026', '-0.091683'], ['C', '2.760398', '0.029647', '0.031401'], ['N', '3.583943', '1.082013', '0.088057'], ['C', '4.894264', '0.851744', '0.149591'], ['C', '5.450661', '-0.422709', '0.158116'], ['C', '4.590789', '-1.513242', '0.098998'], ['C', '3.223747', '-1.287888', '0.034528'], ['C', '-5.153942', '0.088952', '-0.321539'], ['C', '-5.782163', '-0.231154', '1.039302'], ['H', '-3.761919', '-2.236299', '-0.350179'], ['H', '-1.313677', '-2.576024', '-0.236020'], ['H', '-3.214057', '2.015681', '-0.226391'], ['H', '1.574275', '2.468981', '0.023774'], ['H', '-0.874617', '2.936852', '-0.089069'], ['H', '5.531241', '1.729825', '0.194133'], ['H', '6.524581', '-0.550073', '0.209559'], ['H', '4.979885', '-2.524828', '0.103152'], ['H', '2.513905', '-2.102230', '-0.013020'], ['H', '-5.405913', '1.111295', '-0.612624'], ['H', '-5.577125', '-0.573714', '-1.082248'], ['H', '-6.867466', '-0.120559', '1.003833'], ['H', '-5.557045', '-1.256006', '1.343392'], ['H', '-5.394809', '0.440090', '1.808821']]\n",
            "{0: ['C', '-3.655704', '-0.073700', '-0.293774'], 1: ['C', '-3.094159', '-1.381731', '-0.293170'], 2: ['C', '-1.742381', '-1.580333', '-0.230713'], 3: ['C', '-0.857499', '-0.472013', '-0.160784'], 4: ['C', '-1.405560', '0.836566', '-0.159693'], 5: ['C', '-2.811116', '1.006506', '-0.226961'], 6: ['N', '0.480286', '-0.704623', '-0.099633'], 7: ['C', '1.297227', '0.323206', '-0.036357'], 8: ['C', '0.846132', '1.672003', '-0.029942'], 9: ['C', '-0.495173', '1.920026', '-0.091683'], 10: ['C', '2.760398', '0.029647', '0.031401'], 11: ['N', '3.583943', '1.082013', '0.088057'], 12: ['C', '4.894264', '0.851744', '0.149591'], 13: ['C', '5.450661', '-0.422709', '0.158116'], 14: ['C', '4.590789', '-1.513242', '0.098998'], 15: ['C', '3.223747', '-1.287888', '0.034528'], 16: ['C', '-5.153942', '0.088952', '-0.321539'], 17: ['C', '-5.782163', '-0.231154', '1.039302'], 18: ['H', '-3.761919', '-2.236299', '-0.350179'], 19: ['H', '-1.313677', '-2.576024', '-0.236020'], 20: ['H', '-3.214057', '2.015681', '-0.226391'], 21: ['H', '1.574275', '2.468981', '0.023774'], 22: ['H', '-0.874617', '2.936852', '-0.089069'], 23: ['H', '5.531241', '1.729825', '0.194133'], 24: ['H', '6.524581', '-0.550073', '0.209559'], 25: ['H', '4.979885', '-2.524828', '0.103152'], 26: ['H', '2.513905', '-2.102230', '-0.013020'], 27: ['H', '-5.405913', '1.111295', '-0.612624'], 28: ['H', '-5.577125', '-0.573714', '-1.082248'], 29: ['H', '-6.867466', '-0.120559', '1.003833'], 30: ['H', '-5.557045', '-1.256006', '1.343392'], 31: ['H', '-5.394809', '0.440090', '1.808821']}\n",
            "\n",
            "[' Atom     1(C)    Population:  5.83202064    NetCharge:  0.16797936', ' Atom     2(C)    Population:  6.16094914    NetCharge: -0.16094914', ' Atom     3(C)    Population:  6.20030980    NetCharge: -0.20030980', ' Atom     4(C)    Population:  5.67203291    NetCharge:  0.32796709', ' Atom     5(C)    Population:  6.05820947    NetCharge: -0.05820947', ' Atom     6(C)    Population:  6.16346226    NetCharge: -0.16346226', ' Atom     7(N)    Population:  7.66460254    NetCharge: -0.66460254', ' Atom     8(C)    Population:  5.58120727    NetCharge:  0.41879273', ' Atom     9(C)    Population:  6.25763760    NetCharge: -0.25763760', ' Atom    10(C)    Population:  6.11628528    NetCharge: -0.11628528', ' Atom    11(C)    Population:  5.64140428    NetCharge:  0.35859572', ' Atom    12(N)    Population:  7.61956988    NetCharge: -0.61956988', ' Atom    13(C)    Population:  5.84675448    NetCharge:  0.15324552', ' Atom    14(C)    Population:  6.21856449    NetCharge: -0.21856449', ' Atom    15(C)    Population:  6.17465883    NetCharge: -0.17465883', ' Atom    16(C)    Population:  6.18966604    NetCharge: -0.18966604', ' Atom    17(C)    Population:  6.48781863    NetCharge: -0.48781863', ' Atom    18(C)    Population:  6.57817919    NetCharge: -0.57817919', ' Atom    19(H)    Population:  0.85251798    NetCharge:  0.14748202', ' Atom    20(H)    Population:  0.84146340    NetCharge:  0.15853660', ' Atom    21(H)    Population:  0.87205477    NetCharge:  0.12794523', ' Atom    22(H)    Population:  0.80128375    NetCharge:  0.19871625', ' Atom    23(H)    Population:  0.85170078    NetCharge:  0.14829922', ' Atom    24(H)    Population:  0.83328079    NetCharge:  0.16671921', ' Atom    25(H)    Population:  0.82919864    NetCharge:  0.17080136', ' Atom    26(H)    Population:  0.85449184    NetCharge:  0.14550816', ' Atom    27(H)    Population:  0.79314320    NetCharge:  0.20685680', ' Atom    28(H)    Population:  0.81411089    NetCharge:  0.18588911', ' Atom    29(H)    Population:  0.79653083    NetCharge:  0.20346917', ' Atom    30(H)    Population:  0.78896139    NetCharge:  0.21103861', ' Atom    31(H)    Population:  0.80532442    NetCharge:  0.19467558', ' Atom    32(H)    Population:  0.80260454    NetCharge:  0.19739546']\n",
            "[['Atom', '1(C)', 'Population:', '5.83202064', 'NetCharge:', '0.16797936'], ['Atom', '2(C)', 'Population:', '6.16094914', 'NetCharge:', '-0.16094914'], ['Atom', '3(C)', 'Population:', '6.20030980', 'NetCharge:', '-0.20030980'], ['Atom', '4(C)', 'Population:', '5.67203291', 'NetCharge:', '0.32796709'], ['Atom', '5(C)', 'Population:', '6.05820947', 'NetCharge:', '-0.05820947'], ['Atom', '6(C)', 'Population:', '6.16346226', 'NetCharge:', '-0.16346226'], ['Atom', '7(N)', 'Population:', '7.66460254', 'NetCharge:', '-0.66460254'], ['Atom', '8(C)', 'Population:', '5.58120727', 'NetCharge:', '0.41879273'], ['Atom', '9(C)', 'Population:', '6.25763760', 'NetCharge:', '-0.25763760'], ['Atom', '10(C)', 'Population:', '6.11628528', 'NetCharge:', '-0.11628528'], ['Atom', '11(C)', 'Population:', '5.64140428', 'NetCharge:', '0.35859572'], ['Atom', '12(N)', 'Population:', '7.61956988', 'NetCharge:', '-0.61956988'], ['Atom', '13(C)', 'Population:', '5.84675448', 'NetCharge:', '0.15324552'], ['Atom', '14(C)', 'Population:', '6.21856449', 'NetCharge:', '-0.21856449'], ['Atom', '15(C)', 'Population:', '6.17465883', 'NetCharge:', '-0.17465883'], ['Atom', '16(C)', 'Population:', '6.18966604', 'NetCharge:', '-0.18966604'], ['Atom', '17(C)', 'Population:', '6.48781863', 'NetCharge:', '-0.48781863'], ['Atom', '18(C)', 'Population:', '6.57817919', 'NetCharge:', '-0.57817919'], ['Atom', '19(H)', 'Population:', '0.85251798', 'NetCharge:', '0.14748202'], ['Atom', '20(H)', 'Population:', '0.84146340', 'NetCharge:', '0.15853660'], ['Atom', '21(H)', 'Population:', '0.87205477', 'NetCharge:', '0.12794523'], ['Atom', '22(H)', 'Population:', '0.80128375', 'NetCharge:', '0.19871625'], ['Atom', '23(H)', 'Population:', '0.85170078', 'NetCharge:', '0.14829922'], ['Atom', '24(H)', 'Population:', '0.83328079', 'NetCharge:', '0.16671921'], ['Atom', '25(H)', 'Population:', '0.82919864', 'NetCharge:', '0.17080136'], ['Atom', '26(H)', 'Population:', '0.85449184', 'NetCharge:', '0.14550816'], ['Atom', '27(H)', 'Population:', '0.79314320', 'NetCharge:', '0.20685680'], ['Atom', '28(H)', 'Population:', '0.81411089', 'NetCharge:', '0.18588911'], ['Atom', '29(H)', 'Population:', '0.79653083', 'NetCharge:', '0.20346917'], ['Atom', '30(H)', 'Population:', '0.78896139', 'NetCharge:', '0.21103861'], ['Atom', '31(H)', 'Population:', '0.80532442', 'NetCharge:', '0.19467558'], ['Atom', '32(H)', 'Population:', '0.80260454', 'NetCharge:', '0.19739546']]\n",
            "{0: '0.16797936', 1: '-0.16094914', 2: '-0.20030980', 3: '0.32796709', 4: '-0.05820947', 5: '-0.16346226', 6: '-0.66460254', 7: '0.41879273', 8: '-0.25763760', 9: '-0.11628528', 10: '0.35859572', 11: '-0.61956988', 12: '0.15324552', 13: '-0.21856449', 14: '-0.17465883', 15: '-0.18966604', 16: '-0.48781863', 17: '-0.57817919', 18: '0.14748202', 19: '0.15853660', 20: '0.12794523', 21: '0.19871625', 22: '0.14829922', 23: '0.16671921', 24: '0.17080136', 25: '0.14550816', 26: '0.20685680', 27: '0.18588911', 28: '0.20346917', 29: '0.21103861', 30: '0.19467558', 31: '0.19739546'}\n"
          ]
        }
      ]
    },
    {
      "cell_type": "code",
      "source": [
        "#Cremaos la matriz\n",
        "barysz_matrix = np.zeros((len(valores_limpios)-1, len(valores_limpios)-1))\n",
        "enlaces = []\n",
        "#Se recorre el diccionario 2 veces\n",
        "for id, valor in indices.items():\n",
        "  for id2, valor2 in indices.items():\n",
        "    #Se obtiene la distancia de todas las coordenadas\n",
        "    d_val = np.sqrt((float(valor[1])-float(valor2[1]))**2 + (float(valor[2])-float(valor2[2]))**2 + (float(valor[3])-float(valor2[3]))**2)\n",
        "    #Para guardarnos en salud, si la distancia es 0, es porque son los mismos, y nos interesa son las parejas distintas\n",
        "    if d_val!=0:\n",
        "      # En este condicional se deben de poner todas las directrices para validar a un enlace (en este caso sólo se tomó en cuenta la distancia...)\n",
        "      #(... de enlace en amnstrong)\n",
        "      if d_val <= 1.5:\n",
        "        d_AB=0\n",
        "        # Ahora se recorre desde el 2do valor de la lista (las coordenadas)\n",
        "        for i in range(1,len(valor2)-1):\n",
        "          #Para hallar la distancia al cuadrado\n",
        "          d_AB += (float(valor[i])- float(valor2[i]))**2\n",
        "\n",
        "        d_AB_raiz = np.sqrt(d_AB)\n",
        "\n",
        "\n",
        "        #Se procede a llenar la matriz a través del producto de cargas sobre la distancia al cuadrado\n",
        "        barysz_matrix[id, id2] = (float(cargas_Mulli[id])*float(cargas_Mulli[id2]))/d_AB\n",
        "        barysz_matrix[id2, id] = (float(cargas_Mulli[id])*float(cargas_Mulli[id2]))/d_AB\n",
        "\n",
        "\n",
        "print(barysz_matrix)"
      ],
      "metadata": {
        "colab": {
          "base_uri": "https://localhost:8080/"
        },
        "id": "h19hc5mS9aNS",
        "outputId": "aafe598c-be07-4c33-9c1f-4a6d1893aa79"
      },
      "execution_count": 25,
      "outputs": [
        {
          "output_type": "stream",
          "name": "stdout",
          "text": [
            "[[ 0.         -0.01334276  0.         ...  0.          0.\n",
            "   0.        ]\n",
            " [-0.01334276  0.          0.01727052 ...  0.          0.\n",
            "   0.        ]\n",
            " [ 0.          0.01727052  0.         ...  0.          0.\n",
            "   0.        ]\n",
            " ...\n",
            " [ 0.          0.          0.         ...  0.          0.\n",
            "   0.        ]\n",
            " [ 0.          0.          0.         ...  0.          0.\n",
            "   0.        ]\n",
            " [ 0.          0.          0.         ...  0.          0.\n",
            "   0.        ]]\n"
          ]
        }
      ]
    },
    {
      "cell_type": "code",
      "source": [
        "#Creamos una función que recibe una matriz para hallarle algún tipo de descriptor\n",
        "#En este caso \"randic\", sin embargo, sólo utilizamos su expresión matemática, más no su lógica de conectividad...\n",
        "#Ya que en lo que debería estar los grados de conectividad está la sumatoria de las fuerzas por cada 2 nodos\n",
        "def randic(matriz):\n",
        "  #Se obtiene el número de átomos del archivo .xyz (primera línea)\n",
        "  N_atoms = int(valores_limpios[0][0])\n",
        "  Grado_conectividad = np.sum(matriz, axis=1)\n",
        "  randic = 0\n",
        "  #Se recorre la matriz hasta el número de átomos que haya\n",
        "  for i in range(N_atoms):\n",
        "    for j in range(i+1, N_atoms):\n",
        "      #Condiciones para que no haya indeterminación al momento de dividir\n",
        "      if matriz[i, j] != 0 and Grado_conectividad[i] != 0 and Grado_conectividad[j] != 0:\n",
        "        producto = Grado_conectividad[i] * Grado_conectividad[j]\n",
        "        #Condiciones de valor absoluto\n",
        "        if producto >= 0:\n",
        "          randic += 1 /(producto)**0.5\n",
        "        else:\n",
        "          randic += 1/(-producto)**0.5\n",
        "  return randic\n",
        "\n",
        "randic_L=[]\n",
        "randic_L.append(randic(barysz_matrix))\n",
        "randic_L\n"
      ],
      "metadata": {
        "id": "Y9GCzFi3602B",
        "colab": {
          "base_uri": "https://localhost:8080/"
        },
        "outputId": "224a8c1a-0a54-4bac-ff02-7d4c00539b0a"
      },
      "execution_count": 34,
      "outputs": [
        {
          "output_type": "stream",
          "name": "stdout",
          "text": [
            "32\n"
          ]
        },
        {
          "output_type": "execute_result",
          "data": {
            "text/plain": [
              "[1407.3623623347441]"
            ]
          },
          "metadata": {},
          "execution_count": 34
        }
      ]
    }
  ]
}