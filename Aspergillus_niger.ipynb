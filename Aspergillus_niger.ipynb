{
  "nbformat": 4,
  "nbformat_minor": 0,
  "metadata": {
    "colab": {
      "provenance": [],
      "authorship_tag": "ABX9TyNUNInrJe9VX9XzK1bkMqHf",
      "include_colab_link": true
    },
    "kernelspec": {
      "name": "python3",
      "display_name": "Python 3"
    },
    "language_info": {
      "name": "python"
    }
  },
  "cells": [
    {
      "cell_type": "markdown",
      "metadata": {
        "id": "view-in-github",
        "colab_type": "text"
      },
      "source": [
        "<a href=\"https://colab.research.google.com/github/jisusP/Articulo/blob/main/Aspergillus_niger.ipynb\" target=\"_parent\"><img src=\"https://colab.research.google.com/assets/colab-badge.svg\" alt=\"Open In Colab\"/></a>"
      ]
    },
    {
      "cell_type": "code",
      "execution_count": null,
      "metadata": {
        "id": "EH1ykmchzpmB"
      },
      "outputs": [],
      "source": [
        "!pip install rdkit \n",
        "!pip install sklearn\n",
        "from rdkit import Chem\n",
        "from rdkit.Chem import AllChem\n",
        "from sklearn.metrics.pairwise import cosine_similarity\n",
        "import plotly.figure_factory as ff\n",
        "from scipy.spatial.distance import pdist, squareform\n",
        "from rdkit import Chem\n",
        "from rdkit import DataStructs\n",
        "import seaborn as sns\n",
        "import matplotlib.pyplot as plt\n",
        "import numpy as np\n",
        "smiles = [\n",
        "    \"CCC1=CC=C2N=C(C=CC2=C1)C1=NC=CC=C1\",\n",
        "    \"ClC1=CC=C2N=C(C=CC2=C1)C1=CN=CC=C1\",\n",
        "    \"FC1=CC=C2N=C(C=CC2=C1)C1=CN=CC=C1\",\n",
        "    \"C1=CC=C2N=C(C=CC2=C1)C1=CC=NC=C1\",\n",
        "    \"CC1=CC=C2N=C(C=CC2=C1)C1=CC=NC=C1\",\n",
        "    \"ClC1=CC=C2N=C(C=CC2=C1)C1=CC=NC=C1\",\n",
        "    \"ClC1=C2N=C(C=CC2=CC=C1)C1=CC=NC=C1\",\n",
        "    \"FC1=CC=C2N=C(\\\\C=C\\\\C3=NC=CC=C3)C=CC2=C1\",\n",
        "    \"C(=C/C1=NC2=CC=CC=C2C=C1)\\\\C1=CN=CC=C1\",\n",
        "    \"ClC1=CC=C2N=C(\\\\C=C\\\\C3=CN=CC=C3)C=CC2=C1\",\n",
        "    \"C(=C/C1=NC2=CC=CC=C2C=C1)\\\\C1=CC=NC=C1\",\n",
        "    \"ClC1=CC=C2N=C(\\C=C\\C3=CC=NC=C3)C=CC2=C1 \"\n",
        "]\n",
        "mols = [Chem.MolFromSmiles(smile) for smile in smiles]\n",
        "fps = [AllChem.GetMorganFingerprintAsBitVect(mol, 2, nBits=1024) for mol in mols]\n",
        "similarity_matrix_cos = cosine_similarity(fps)\n",
        "distance_matrix_euc = squareform(pdist(fps, 'euclidean'))\n",
        "similarity_matrix_euc = 1 / (1 + distance_matrix_euc)\n",
        "similarity_matrix_tani = np.zeros((len(fps), len(fps)))\n",
        "for i in range(len(fps)):\n",
        "    for j in range(i+1, len(fps)):\n",
        "        similarity = DataStructs.TanimotoSimilarity(fps[i], fps[j])\n",
        "        similarity_matrix_tani[i][j] = similarity\n",
        "        similarity_matrix_tani[j][i] = similarity \n",
        "distance_tani = 1-(similarity_matrix_tani)"
      ]
    },
    {
      "cell_type": "markdown",
      "source": [
        "# **Coeficiente Coseno**"
      ],
      "metadata": {
        "id": "M2TZl1Bpzx75"
      }
    },
    {
      "cell_type": "code",
      "source": [
        "#Matriz 1_ \n",
        "distance_matrix_cos = 1 - similarity_matrix_cos\n",
        "lab = [\"6 (250/>250)\",\"7 (>250)\",\"8 (250/>250)\",\"9 (62/125)\",\"10 (125/250)\",\"11 (>250)\",\"12 (>250)\",\"13 ( >250)\",\"14 (125/>250)\",\"15 (>250)\",\"16 (125/>250)\",\"17 (250/>250)\"]\n",
        "fig = ff.create_dendrogram(distance_matrix_cos, labels= lab)\n",
        "fig.update_layout(width=800, height=500, title = \"Aspergillus niger (C. coseno 1)\", title_x=0.5)\n",
        "fig.show()"
      ],
      "metadata": {
        "id": "MotF8Z-yzyCJ"
      },
      "execution_count": null,
      "outputs": []
    },
    {
      "cell_type": "code",
      "source": [
        "#Matriz 2\n",
        "import scipy.cluster.hierarchy as shc\n",
        "import matplotlib.pyplot as plt\n",
        "plt.figure(figsize=(18,5))\n",
        "plt.title(\"Aspergillus niger (C. coseno 2)\")\n",
        "d = shc.dendrogram(shc.linkage(distance_matrix_cos, method = \"ward\"), labels = lab)"
      ],
      "metadata": {
        "id": "1qt5RrFhzyFF"
      },
      "execution_count": null,
      "outputs": []
    },
    {
      "cell_type": "markdown",
      "source": [
        "# **Distancia Euclidiana**"
      ],
      "metadata": {
        "id": "zOQ4PQT6zyMB"
      }
    },
    {
      "cell_type": "code",
      "source": [
        "#Matriz 1\n",
        "fig = ff.create_dendrogram(distance_matrix_euc, labels= lab)\n",
        "fig.update_layout(width=800, height=500,  title = \"Aspergillus niger (D. euclidiana 1)\", title_x=0.5)\n",
        "fig.show()"
      ],
      "metadata": {
        "id": "guJwEe3rzyTh"
      },
      "execution_count": null,
      "outputs": []
    },
    {
      "cell_type": "code",
      "source": [
        "#Matriz 2\n",
        "plt.figure(figsize=(20,5))\n",
        "plt.title(\"Aspergillus niger (D. euclidiana 1)\")\n",
        "d = shc.dendrogram(shc.linkage(distance_matrix_euc, method = \"ward\"), labels = lab)"
      ],
      "metadata": {
        "id": "XNy9FF7RzyVz"
      },
      "execution_count": null,
      "outputs": []
    },
    {
      "cell_type": "markdown",
      "source": [
        "# **Tanimoto**"
      ],
      "metadata": {
        "id": "PE1AWPSPzycE"
      }
    },
    {
      "cell_type": "code",
      "source": [
        "#Matriz 1\n",
        "fig = ff.create_dendrogram(distance_tani, labels=lab)\n",
        "fig.update_layout(width=800, height=500, title = \"Aspergillus niger (Tanimoto 1)\", title_x=0.5)\n",
        "fig.show()"
      ],
      "metadata": {
        "id": "HrTPmunizyig"
      },
      "execution_count": null,
      "outputs": []
    },
    {
      "cell_type": "code",
      "source": [
        "#Matriz 2\n",
        "plt.figure(figsize=(20,5))\n",
        "plt.title(\"Aspergillus niger (Tanimoto 2)\")\n",
        "d = shc.dendrogram(shc.linkage(distance_tani, method = \"ward\"), labels = lab)"
      ],
      "metadata": {
        "id": "5FufUKJ8zyks"
      },
      "execution_count": null,
      "outputs": []
    }
  ]
}