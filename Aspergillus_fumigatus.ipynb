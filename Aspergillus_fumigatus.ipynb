{
  "nbformat": 4,
  "nbformat_minor": 0,
  "metadata": {
    "colab": {
      "provenance": [],
      "authorship_tag": "ABX9TyN4W17hR9DCD8ZKilBu4aS1",
      "include_colab_link": true
    },
    "kernelspec": {
      "name": "python3",
      "display_name": "Python 3"
    },
    "language_info": {
      "name": "python"
    }
  },
  "cells": [
    {
      "cell_type": "markdown",
      "metadata": {
        "id": "view-in-github",
        "colab_type": "text"
      },
      "source": [
        "<a href=\"https://colab.research.google.com/github/jisusP/Articulo/blob/main/Aspergillus_fumigatus.ipynb\" target=\"_parent\"><img src=\"https://colab.research.google.com/assets/colab-badge.svg\" alt=\"Open In Colab\"/></a>"
      ]
    },
    {
      "cell_type": "code",
      "execution_count": null,
      "metadata": {
        "id": "HKNq7s8bymAc"
      },
      "outputs": [],
      "source": [
        "!pip install rdkit \n",
        "!pip install sklearn\n",
        "from rdkit import Chem\n",
        "from rdkit.Chem import AllChem\n",
        "from sklearn.metrics.pairwise import cosine_similarity\n",
        "import plotly.figure_factory as ff\n",
        "from scipy.spatial.distance import pdist, squareform\n",
        "from rdkit import Chem\n",
        "from rdkit import DataStructs\n",
        "import seaborn as sns\n",
        "import matplotlib.pyplot as plt\n",
        "import numpy as np\n",
        "smiles = [\n",
        "    \"CCC1=CC=C2N=C(C=CC2=C1)C1=NC=CC=C1\",\n",
        "    \"ClC1=CC=C2N=C(C=CC2=C1)C1=CN=CC=C1\",\n",
        "    \"FC1=CC=C2N=C(C=CC2=C1)C1=CN=CC=C1\",\n",
        "    \"C1=CC=C2N=C(C=CC2=C1)C1=CC=NC=C1\",\n",
        "    \"CC1=CC=C2N=C(C=CC2=C1)C1=CC=NC=C1\",\n",
        "    \"ClC1=CC=C2N=C(C=CC2=C1)C1=CC=NC=C1\",\n",
        "    \"ClC1=C2N=C(C=CC2=CC=C1)C1=CC=NC=C1\",\n",
        "    \"FC1=CC=C2N=C(\\\\C=C\\\\C3=NC=CC=C3)C=CC2=C1\",\n",
        "    \"C(=C/C1=NC2=CC=CC=C2C=C1)\\\\C1=CN=CC=C1\",\n",
        "    \"ClC1=CC=C2N=C(\\\\C=C\\\\C3=CN=CC=C3)C=CC2=C1\",\n",
        "    \"C(=C/C1=NC2=CC=CC=C2C=C1)\\\\C1=CC=NC=C1\",\n",
        "    \"ClC1=CC=C2N=C(\\C=C\\C3=CC=NC=C3)C=CC2=C1 \"\n",
        "]\n",
        "mols = [Chem.MolFromSmiles(smile) for smile in smiles]\n",
        "fps = [AllChem.GetMorganFingerprintAsBitVect(mol, 2, nBits=1024) for mol in mols]\n",
        "similarity_matrix_cos = cosine_similarity(fps)\n",
        "distance_matrix_euc = squareform(pdist(fps, 'euclidean'))\n",
        "similarity_matrix_euc = 1 / (1 + distance_matrix_euc)\n",
        "similarity_matrix_tani = np.zeros((len(fps), len(fps)))\n",
        "for i in range(len(fps)):\n",
        "    for j in range(i+1, len(fps)):\n",
        "        similarity = DataStructs.TanimotoSimilarity(fps[i], fps[j])\n",
        "        similarity_matrix_tani[i][j] = similarity\n",
        "        similarity_matrix_tani[j][i] = similarity \n",
        "distance_tani = 1-(similarity_matrix_tani)"
      ]
    },
    {
      "cell_type": "markdown",
      "source": [
        "# **Coeficiente Coseno**"
      ],
      "metadata": {
        "id": "2xri2YpDyuht"
      }
    },
    {
      "cell_type": "code",
      "source": [
        "#Matriz 1_ \n",
        "distance_matrix_cos = 1 - similarity_matrix_cos\n",
        "lab = [\"6 (62/125)\",\"7 (>250)\",\"8 (125/250)\",\"9 (62/125)\",\"10 (62/125)\",\"11 (>250)\",\"12 (>250)\",\"13 (250/>250)\",\"14 (125/>250)\",\"15 (250/>250)\",\"16 (125/250)\",\"17 (250/>250)\"]\n",
        "fig = ff.create_dendrogram(distance_matrix_cos, labels= lab)\n",
        "fig.update_layout(width=800, height=500, title = \"Aspergillus fumigatus (C. coseno 1)\", title_x=0.5)\n",
        "fig.show()"
      ],
      "metadata": {
        "id": "8wOwGEUvyuqf"
      },
      "execution_count": null,
      "outputs": []
    },
    {
      "cell_type": "code",
      "source": [
        "#Matriz 2\n",
        "import scipy.cluster.hierarchy as shc\n",
        "import matplotlib.pyplot as plt\n",
        "plt.figure(figsize=(18,5))\n",
        "plt.title(\"Aspergillus fumigatus (C. coseno 2)\")\n",
        "d = shc.dendrogram(shc.linkage(distance_matrix_cos, method = \"ward\"), labels = lab)"
      ],
      "metadata": {
        "id": "jWU1v6gByutc"
      },
      "execution_count": null,
      "outputs": []
    },
    {
      "cell_type": "markdown",
      "source": [
        "# **Distancia euclidiana**"
      ],
      "metadata": {
        "id": "m9P01iK6yu0G"
      }
    },
    {
      "cell_type": "code",
      "source": [
        "#Matriz 1\n",
        "fig = ff.create_dendrogram(distance_matrix_euc, labels= lab)\n",
        "fig.update_layout(width=800, height=500,  title = \"Aspergillus fumigatus (D. euclidiana 1)\", title_x=0.5)\n",
        "fig.show()"
      ],
      "metadata": {
        "id": "TDDjmg2oyu6j"
      },
      "execution_count": null,
      "outputs": []
    },
    {
      "cell_type": "code",
      "source": [
        "#Matriz 2\n",
        "plt.figure(figsize=(20,5))\n",
        "plt.title(\"Aspergillus fumigatus (D. euclidiana 1)\")\n",
        "d = shc.dendrogram(shc.linkage(distance_matrix_euc, method = \"ward\"), labels = lab)"
      ],
      "metadata": {
        "id": "qFnSYpnlyu86"
      },
      "execution_count": null,
      "outputs": []
    },
    {
      "cell_type": "markdown",
      "source": [
        "# **Tanimoto**"
      ],
      "metadata": {
        "id": "BcwTJt1fyvDI"
      }
    },
    {
      "cell_type": "code",
      "source": [
        "#Matriz 1\n",
        "fig = ff.create_dendrogram(distance_tani, labels=lab)\n",
        "fig.update_layout(width=800, height=500, title = \"Aspergillus fumigatus (Tanimoto 1)\", title_x=0.5)\n",
        "fig.show()"
      ],
      "metadata": {
        "id": "dIX3LGCYyvKb"
      },
      "execution_count": null,
      "outputs": []
    },
    {
      "cell_type": "code",
      "source": [
        "#Matriz 2\n",
        "plt.figure(figsize=(20,5))\n",
        "plt.title(\"Aspergillus fumigatus (Tanimoto 2)\")\n",
        "d = shc.dendrogram(shc.linkage(distance_tani, method = \"ward\"), labels = lab)"
      ],
      "metadata": {
        "id": "tJIzQVdgyvMq"
      },
      "execution_count": null,
      "outputs": []
    }
  ]
}